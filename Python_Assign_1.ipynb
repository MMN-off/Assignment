{
  "nbformat": 4,
  "nbformat_minor": 0,
  "metadata": {
    "colab": {
      "provenance": []
    },
    "kernelspec": {
      "name": "python3",
      "display_name": "Python 3"
    },
    "language_info": {
      "name": "python"
    }
  },
  "cells": [
    {
      "cell_type": "markdown",
      "source": [
        "1. In the below elements which of them are values or an expression? eg:- values can be integer or string and expressions will be mathematical operators.\n",
        "Ans. Values : -87.8, 6, 'hello'\n",
        "      Expression : - , /, + ,* \n",
        "\n",
        "2. What is the difference between string and variable?\n",
        "Ans. String - A string is a sequence of one or more characters (letters, numbers, symbols) that can be either a constant or a variable.\n",
        "Variable - Variables are symbols that you can use to store data in a program.\n",
        "\n",
        "3. Describe three different data types.\n",
        "Ans. Integers, floating point numbers, string\n",
        "\n",
        "4. What is an expression made up of? What do all expressions do?\n",
        "Ans. An expression is a combination of values, variables, operators, and calls to functions. Expressions need to be evaluated. If you ask Python to print an expression, the interpreter evaluates the expression and displays the result.\n",
        "\n",
        "5. This assignment statements, like spam = 10. What is the difference between an expression and a statement?\n",
        "Ans. A statement is an instruction that the Python interpreter can execute. While an expression is a combination of values, variables, operators, and calls to functions. Expressions need to be evaluated.\n",
        "\n",
        "6. After running the following code, what does the variable bacon contain?\n",
        "Ans. The bacon variable is set to 20. The bacon + 1 expression does not reassign the value in bacon (that would need an assignment statement: bacon = bacon + 1)\n",
        "\n",
        "7. What should the values of the following two terms be?\n",
        "Ans. Both expressions evaluate to the string 'spamspamspam'\n",
        "\n",
        "8. Why is eggs a valid variable name while 100 is invalid?\n",
        "Ans. Variable names cannot begin with a number.\n",
        "\n",
        "9. What three functions can be used to get the integer, floating-point number, or string version of a value?\n",
        "Ans. The int(), float(), and str() functions will evaluate to the integer, floating-point number, and string versions of the value passed to them.\n",
        "\n",
        "10. Why does this expression cause an error? How can you fix it?\n",
        "'I have eaten ' + 99 + ' burritos.'\n",
        "Ans. The expression causes an error because 99 is an integer, and only strings can be concatenated to other strings with the + operator. The correct way is I have eaten ' + str(99) + ' burritos.'.\n"
      ],
      "metadata": {
        "id": "aWiYeKtgGns6"
      }
    },
    {
      "cell_type": "code",
      "source": [],
      "metadata": {
        "id": "aaF_ANTWG2cK"
      },
      "execution_count": null,
      "outputs": []
    }
  ]
}