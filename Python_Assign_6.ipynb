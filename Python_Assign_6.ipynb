{
  "nbformat": 4,
  "nbformat_minor": 0,
  "metadata": {
    "colab": {
      "provenance": []
    },
    "kernelspec": {
      "name": "python3",
      "display_name": "Python 3"
    },
    "language_info": {
      "name": "python"
    }
  },
  "cells": [
    {
      "cell_type": "markdown",
      "source": [
        "1. What are escape characters, and how do you use them?<br>\n",
        "Ans. To insert characters that are illegal in a string, use an escape character.\n",
        "An escape character is a backslash \\ followed by the character you want to insert.\n",
        "\n",
        "2. What do the escape characters n and t stand for?<br>\n",
        "Ans. newline (\\n), tab (\\t)\n",
        "\n",
        "3. What is the way to include backslash characters in a string?<br>\n",
        "Ans. you need two backslashes \\\\\n",
        "\n",
        "4. The string &quot;Howl&#39;s Moving Castle&quot; is a correct value. Why isn&#39;t the single quote character in the\n",
        "word Howl&#39;s not escaped a problem?<br>\n",
        "Ans. The single quote in Howl's is fine because you've used double quotes to mark the beginning and end of the string.\n",
        "\n",
        "5. How do you write a string of newlines if you don&#39;t want to use the n character?<br>\n",
        "Ans. print strings without adding a new line with end = <character> , which <character> is the character that will be used to separate the lines.\n",
        "\n",
        "6. What are the values of the given expressions?<br>\n",
        "&#39;Hello, world!&#39;[1]<br>\n",
        "&#39;Hello, world!&#39;[0:5]<br>\n",
        "&#39;Hello, world!&#39;[:5]<br>\n",
        "&#39;Hello, world!&#39;[3:]<br>\n",
        "Ans. The expressions evaluate to the following:<br>\n",
        "'e'<br>\n",
        "'Hello'<br>\n",
        "'Hello'<br>\n",
        "'lo world!<br>\n",
        "\n",
        "7. What are the values of the following expressions?<br>\n",
        "&#39;Hello&#39;.upper()<br>\n",
        "&#39;Hello&#39;.upper().isupper()<br>\n",
        "&#39;Hello&#39;.upper().lower()<br>\n",
        "Ans. The expressions evaluate to the following:<br>\n",
        "'HELLO'<br>\n",
        " True<br>\n",
        "'hello'<br>\n",
        "\n",
        "8. What are the values of the following expressions?\n",
        "&#39;Remember, remember, the fifth of July.&#39;.split()\n",
        "&#39;-&#39;.join(&#39;There can only one.&#39;.split())<br>\n",
        "Ans. The expressions evaluate to the following:<br>\n",
        "['Remember,', 'remember,', 'the', 'fifth', 'of', 'November.']<br>\n",
        "'There-can-be-only-one.<br>\n",
        "\n",
        "9. What are the methods for right-justifying, left-justifying, and centering a string?<br>\n",
        "Ans. The rjust(), ljust(), and center() string methods, respectively<br>\n",
        "\n",
        "10. What is the best way to remove whitespace characters from the start or end?<br>\n",
        "Ans. The lstrip() and rstrip() methods remove whitespace from the left and right ends of a string, respectively.\n"
      ],
      "metadata": {
        "id": "dLIJ53e06SU6"
      }
    }
  ]
}