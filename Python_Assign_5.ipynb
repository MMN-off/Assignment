{
  "nbformat": 4,
  "nbformat_minor": 0,
  "metadata": {
    "colab": {
      "provenance": []
    },
    "kernelspec": {
      "name": "python3",
      "display_name": "Python 3"
    },
    "language_info": {
      "name": "python"
    }
  },
  "cells": [
    {
      "cell_type": "markdown",
      "source": [
        "1. What does an empty dictionary&#39;s code look like?<br>\n",
        "Ans. Two curly brackets: {}\n",
        "\n",
        "2. What is the value of a dictionary value with the key &#39;foo&#39; and the value 42?"
      ],
      "metadata": {
        "id": "8qjBv9jAbeB2"
      }
    },
    {
      "cell_type": "code",
      "source": [
        "d = {\"foo\" : 42 }\n",
        "print(d)"
      ],
      "metadata": {
        "colab": {
          "base_uri": "https://localhost:8080/"
        },
        "id": "3X1ts-57b1IU",
        "outputId": "6dc4130b-274c-4756-a475-1cb5df7f3934"
      },
      "execution_count": 1,
      "outputs": [
        {
          "output_type": "stream",
          "name": "stdout",
          "text": [
            "{'foo': 42}\n"
          ]
        }
      ]
    },
    {
      "cell_type": "markdown",
      "source": [
        "3. What is the most significant distinction between a dictionary and a list?<br>\n",
        "Ans. A list is an ordered sequence of objects, whereas dictionaries are unordered sets. However, the main difference is that items in dictionaries are accessed via keys and not via their position.\n",
        "\n",
        "4. What happens if you try to access spam[&#39;foo&#39;] if spam is {&#39;bar&#39;: 100}?<br>\n",
        "Ans. You will get a KeyError error.\n",
        "\n",
        "5. If a dictionary is stored in spam, what is the difference between the expressions &#39;cat&#39; in spam and\n",
        "&#39;cat&#39; in spam.keys()? <br>\n",
        "Ans. There is no difference. The in operator checks whether a value exists as a key in the dictionary.\n",
        "\n",
        "6. If a dictionary is stored in spam, what is the difference between the expressions &#39;cat&#39; in spam and\n",
        "&#39;cat&#39; in spam.values()? <br>\n",
        "Ans. 'cat' in spam checks whether there is a 'cat' key in the dictionary, while 'cat' in spam.values() checks whether there is a value 'cat' for one of the keys in spam.\n",
        "\n",
        "7. What is a shortcut for the following code?<br>\n",
        "Ans. spam.setdefault('color', 'black')\n",
        "\n",
        "8. How do you &quot;pretty print&quot; dictionary values using which module and function?<br>\n",
        "Ans. pprint.pprint()"
      ],
      "metadata": {
        "id": "wafaQjaUdEgH"
      }
    },
    {
      "cell_type": "code",
      "source": [],
      "metadata": {
        "id": "gDXZxCPid8gn"
      },
      "execution_count": null,
      "outputs": []
    }
  ]
}