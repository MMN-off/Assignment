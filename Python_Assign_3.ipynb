{
  "nbformat": 4,
  "nbformat_minor": 0,
  "metadata": {
    "colab": {
      "provenance": []
    },
    "kernelspec": {
      "name": "python3",
      "display_name": "Python 3"
    },
    "language_info": {
      "name": "python"
    }
  },
  "cells": [
    {
      "cell_type": "markdown",
      "source": [
        "1. Why are functions advantageous to have in your programs?<br>\n",
        "Ans. Functions reduce the need for duplicate code. This makes programs shorter, easier to read, and easier to update.\n",
        "\n",
        "2. When does the code in a function run: when it's specified or when it's called?<br>\n",
        "Ans. The code in a function executes when the function is called, not when the function is defined.\n",
        "\n",
        "3. What statement creates a function?<br>\n",
        "Ans. The def statement defines, i.e. creates a function.\n",
        "\n",
        "4. What is the difference between a function and a function call?<br>\n",
        "Ans. A function consists of the def statement and the code in its def clause. A function call is what moves the program execution into the function, and the function call evaluates to the function's return value.\n",
        "\n",
        "5. How many global scopes are there in a Python program? How many local scopes?<br>\n",
        "Ans.There is one global scope, and a local scope is created whenever a function is called.\n",
        "\n",
        "6. What happens to variables in a local scope when the function call returns?<br>\n",
        "Ans. When a function returns, the local scope is destroyed, and all the variables in it are forgotten.\n",
        "\n",
        "7. What is the concept of a return value? Is it possible to have a return value in an expression?<br>\n",
        "Ans. A return value is the value that a function call evaluates to. Like any value, a return value can be used as part of an expression.\n",
        "\n",
        "8. If a function does not have a return statement, what is the return value of a call to that function?<br>\n",
        "Ans. If there is no return statement for a function, its return value is None.\n",
        "\n",
        "9. How do you make a function variable refer to the global variable?<br>\n",
        "Ans. A global statement will force a variable in a function to refer to the global variable.\n",
        "\n",
        "10. What is the data type of None?<br>\n",
        "Ans. The data type of None is NoneType.\n",
        "\n",
        "11. What does the sentence import areallyourpetsnamederic do?<br>\n",
        "Ans. That import statement imports a module named areallyourpetsnamederic.\n",
        "\n",
        "12. If you had a bacon() feature in a spam module, what would you call it after importing spam?<br>\n",
        "Ans. This function can be called with spam.bacon().\n",
        "\n",
        "13. What can you do to save a programme from crashing if it encounters an error?<br>\n",
        "Ans.Place the line of code that might cause an error in a try clause.\n",
        "\n",
        "14. What is the purpose of the try clause? What is the purpose of the except clause?<br>\n",
        "Ans. The code that could potentially cause an error goes in the try clause.<br> The code that executes if an error happens goes in the except clause"
      ],
      "metadata": {
        "id": "2BrFlu-yYMcr"
      }
    },
    {
      "cell_type": "code",
      "source": [],
      "metadata": {
        "id": "hJET8lz6fzQH"
      },
      "execution_count": null,
      "outputs": []
    }
  ]
}