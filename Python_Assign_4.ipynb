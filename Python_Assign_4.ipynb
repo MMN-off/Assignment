{
  "nbformat": 4,
  "nbformat_minor": 0,
  "metadata": {
    "colab": {
      "provenance": []
    },
    "kernelspec": {
      "name": "python3",
      "display_name": "Python 3"
    },
    "language_info": {
      "name": "python"
    }
  },
  "cells": [
    {
      "cell_type": "markdown",
      "source": [
        "1. What exactly is []?<br>\n",
        "Ans. The empty list value, which is a list value that contains no items. This is similar to how '' is the empty string value.\n",
        "\n",
        "2. In a list of values stored in a variable called spam, how would you assign the value &#39;hello&#39; as the\n",
        "third value? (Assume [2, 4, 6, 8, 10] are in spam.)"
      ],
      "metadata": {
        "id": "jfjyjLHVhPwk"
      }
    },
    {
      "cell_type": "code",
      "source": [
        "#Values change\n",
        "spam=[2,4,6,8,10]\n",
        "print(spam)\n",
        "spam[2]='hello' # (third value in a list is at index 2 because the first index is 0)\n",
        "print(spam)"
      ],
      "metadata": {
        "colab": {
          "base_uri": "https://localhost:8080/"
        },
        "id": "MMO11T30iRGg",
        "outputId": "5c879d11-f14e-4cf8-886f-dec77dc29854"
      },
      "execution_count": 5,
      "outputs": [
        {
          "output_type": "stream",
          "name": "stdout",
          "text": [
            "[2, 4, 6, 8, 10]\n",
            "[2, 4, 'hello', 8, 10]\n"
          ]
        }
      ]
    },
    {
      "cell_type": "markdown",
      "source": [
        "Let&#39;s pretend the spam includes the list [&#39;a&#39;, &#39;b&#39;, &#39;c&#39;, &#39;d&#39;] for the next three queries.<br>\n",
        "3. What is the value of spam[int(int(&#39;3&#39; * 2) / 11)]?"
      ],
      "metadata": {
        "id": "Yd34bseOjZPi"
      }
    },
    {
      "cell_type": "code",
      "source": [
        "spam=['a','b','c','d']\n",
        "print(spam)\n",
        "a=spam[int(int('3' * 2) / 11)]\n",
        "print(a)\n",
        "b=spam[-1]\n",
        "print(b)\n",
        "spam[:2]"
      ],
      "metadata": {
        "colab": {
          "base_uri": "https://localhost:8080/"
        },
        "id": "XXyD6BDBjzyo",
        "outputId": "52a70a34-169d-4bc5-e3d5-42daa7647a87"
      },
      "execution_count": 9,
      "outputs": [
        {
          "output_type": "stream",
          "name": "stdout",
          "text": [
            "['a', 'b', 'c', 'd']\n",
            "d\n",
            "d\n"
          ]
        },
        {
          "output_type": "execute_result",
          "data": {
            "text/plain": [
              "['a', 'b']"
            ]
          },
          "metadata": {},
          "execution_count": 9
        }
      ]
    },
    {
      "cell_type": "markdown",
      "source": [
        "4. What is the value of spam[-1]?<br>\n",
        "Ans. 'd' (Negative indexes count from the end.)\n",
        "\n",
        "5. What is the value of spam[:2]?<br>\n",
        "Ans. ['a', 'b']\n",
        "\n",
        "Let&#39;s pretend bacon has the list [3.14, &#39;cat,&#39; 11, &#39;cat,&#39; True] for the next three questions.\n",
        "6. What is the value of bacon.index(&#39;cat&#39;)?<br>\n",
        "Ans. 1\n",
        "\n",
        "7. How does bacon.append(99) change the look of the list value in bacon?<br>\n",
        "Ans. [3.14, 'cat', 11, 'cat', True, 99]\n",
        "\n",
        "8. How does bacon.remove(&#39;cat&#39;) change the look of the list in bacon?<br>\n",
        "Ans. [3.14, 11, 'cat', True]\n",
        "\n",
        "9. What are the list concatenation and list replication operators?<br>\n",
        "Ans. The operator for list concatenation is +, while the operator for replication is *. (This is the same as for strings.)\n",
        "\n",
        "10. What is difference between the list methods append() and insert()?<br>\n",
        "Ans. While append() will add values only to the end of a list, insert() can add them anywhere in the list.\n",
        "\n",
        "11. What are the two methods for removing items from a list?<br>\n",
        "Ans. The methods are remove(), pop() and clear(). It helps to remove the very first given element matching from the list. The pop() method removes an element from the list based on the index given. The clear() method will remove all the elements present in the list.\n",
        "\n",
        "12. Describe how list values and string values are identical.<br>\n",
        "Ans. Both strings and lists have lengths: a string's length is the number of characters in the string; a list's length is the number of items in the list. Each character in a string as well as each item in a list has a position, also called an index.\n",
        "\n",
        "13. What&#39;s the difference between tuples and lists?<br>\n",
        "Ans. The primary difference between tuples and lists is that tuples are immutable as opposed to lists which are mutable. Therefore, it is possible to change a list but not a tuple.\n",
        "\n",
        "14. How do you type a tuple value that only contains the integer 42?<br>\n",
        "Ans. t= (42,)  # trailing comma is mandatory.\n",
        "\n",
        "15. How do you get a list value&#39;s tuple form? How do you get a tuple value&#39;s list form?<br>\n",
        "Ans. To convert a tuple into list in Python, call list() builtin function and pass the tuple as argument to the function. list() returns a new list generated from the items of the given tuple\n",
        "\n",
        "16. Variables that &quot;contain&quot; list values are not necessarily lists themselves. Instead, what do they\n",
        "contain?<br>\n",
        "Ans. will contain references to list values\n",
        "\n",
        "17. How do you distinguish between copy.copy() and copy.deepcopy()?<br>\n",
        "Ans. copy() create reference to original object. If you change copied object - you change the original object. . deepcopy() creates new object and does real copying of original object to new one. Changing new deepcopied object doesn't affect original object."
      ],
      "metadata": {
        "id": "keirMKHBkhxM"
      }
    }
  ]
}