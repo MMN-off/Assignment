{
  "nbformat": 4,
  "nbformat_minor": 0,
  "metadata": {
    "colab": {
      "provenance": []
    },
    "kernelspec": {
      "name": "python3",
      "display_name": "Python 3"
    },
    "language_info": {
      "name": "python"
    }
  },
  "cells": [
    {
      "cell_type": "markdown",
      "source": [
        "1. What are the two values of the Boolean data type? How do you write them?<Br>\n",
        "Ans. True and False, using capital T and F, with the rest of the word in lowercase\n",
        "\n",
        "\n",
        "\n",
        "\n",
        "\n",
        "\n"
      ],
      "metadata": {
        "id": "oJ4KDWCPXDup"
      }
    },
    {
      "cell_type": "markdown",
      "source": [
        "2. What are the three different types of Boolean operators?<br>\n",
        "Ans. The three basic boolean operators are: AND, OR, and NOT.\n",
        "\n",
        "\n",
        "\n",
        "\n"
      ],
      "metadata": {
        "id": "hmPJxM5sQOjJ"
      }
    },
    {
      "cell_type": "markdown",
      "source": [
        "3. Make a list of each Boolean operator's truth tables (i.e. every possible combination of Boolean values for the operator and what it evaluate).<br>\n",
        "Ans. True and True is True.<br>\n",
        "True and False is False.<br>\n",
        "False and True is False.<br>\n",
        "False and False is False.<br>\n",
        "True or True is True.<br>\n",
        "True or False is True.<br>\n",
        "False or True is True.<br>\n",
        "False or False is False.<br>\n",
        "not True is False.<br>\n",
        "not False is True.<br>\n",
        "True is 1 and False is 0<br>\n",
        "<h6><b>Truth Table for AND</b></h6>\n",
        "A B output<br>\n",
        "0 0 0<br>\n",
        "0 1 0<br>\n",
        "1 0 0<br>\n",
        "1 1 1<br>\n",
        "<h6><b>Truth Table for OR</b></h6><br>\n",
        "A B output<br>\n",
        "0 0 0<br>\n",
        "0 1 1<br>\n",
        "1 0 1<br>\n",
        "1 1 1<br>\n",
        "<h6><b>Truth Table for NOT</b></h6><br>\n",
        "A output<br>\n",
        "0 1<br>\n",
        "1 0<br>\n",
        "\n",
        "\n"
      ],
      "metadata": {
        "id": "ISKsZvlXQDSh"
      }
    },
    {
      "cell_type": "markdown",
      "source": [
        "4. What are the values of the following expressions?<br>\n"
      ],
      "metadata": {
        "id": "gAN5yqv-RA9b"
      }
    },
    {
      "cell_type": "code",
      "source": [
        "print((5 > 4) and (3 == 5))\n",
        "print(not (5 > 4))\n",
        "print((5 > 4) or (3 == 5))\n",
        "print(not ((5 > 4) or (3 == 5)))\n",
        "print((True and True) and (True == False))\n",
        "print((not False) or (not True))"
      ],
      "metadata": {
        "colab": {
          "base_uri": "https://localhost:8080/"
        },
        "id": "m9duIGcIRDwi",
        "outputId": "c9248e05-5c31-4dc9-f6eb-91876cab00bd"
      },
      "execution_count": 4,
      "outputs": [
        {
          "output_type": "stream",
          "name": "stdout",
          "text": [
            "False\n",
            "False\n",
            "True\n",
            "False\n",
            "False\n",
            "True\n"
          ]
        }
      ]
    },
    {
      "cell_type": "markdown",
      "source": [
        "5. What are the six comparison operators?<br>\n",
        "Ans . ==, !=, <, >, <=, and >=\n",
        "\n",
        "6. How do you tell the difference between the equal to and assignment operators?Describe a condition and when you would use one.\n",
        "== is the equal to operator that compares two values and evaluates to a Boolean, while = is the assignment operator that stores a value in a variable.<br>\n",
        "Ans."
      ],
      "metadata": {
        "id": "O_NsngHISDKY"
      }
    },
    {
      "cell_type": "code",
      "source": [
        "#eg.\n",
        "\n",
        "# Equal To Operator\n",
        "if(7==6):\n",
        "    print(\"True\")\n",
        "else:\n",
        "    print(\"False\")\n",
        "#Assignment operator\n",
        "c=69 #here we have used assignment operator(=) to assign value of c which is 1\n",
        "print(\"c =\",c)"
      ],
      "metadata": {
        "colab": {
          "base_uri": "https://localhost:8080/"
        },
        "id": "5D5C-WZ2Slbr",
        "outputId": "d910dade-e5af-47f4-fe7e-5e093c689585"
      },
      "execution_count": 5,
      "outputs": [
        {
          "output_type": "stream",
          "name": "stdout",
          "text": [
            "False\n",
            "c = 69\n"
          ]
        }
      ]
    },
    {
      "cell_type": "markdown",
      "source": [
        "7. Identify the three blocks in this code:"
      ],
      "metadata": {
        "id": "i91E2M0HTANx"
      }
    },
    {
      "cell_type": "code",
      "source": [
        "spam = 0\n",
        "if spam == 10:\n",
        "  print('eggs')\n",
        "if spam > 5:\n",
        "  print('bacon')\n",
        "else:\n",
        "  print('ham')\n",
        "  print('spam')\n",
        "  print('spam')\n"
      ],
      "metadata": {
        "colab": {
          "base_uri": "https://localhost:8080/"
        },
        "id": "WX4__wJUTDrU",
        "outputId": "39ed0849-7b72-4f72-9975-461b4720dbeb"
      },
      "execution_count": 7,
      "outputs": [
        {
          "output_type": "stream",
          "name": "stdout",
          "text": [
            "ham\n",
            "spam\n",
            "spam\n"
          ]
        }
      ]
    },
    {
      "cell_type": "markdown",
      "source": [
        "8. Write code that prints Hello if 1 is stored in spam, prints Howdy if 2 is stored in spam, and prints Greetings! if anything else is stored in spam.\n"
      ],
      "metadata": {
        "id": "HwUru0jaTn0s"
      }
    },
    {
      "cell_type": "code",
      "source": [
        "spam = int(input('Enter a number = '))\n",
        "if(spam == 1):\n",
        "  print('Hello')\n",
        "if(spam == 2):\n",
        "  print('Howdy')\n",
        "else:\n",
        "  print('Greetings!')"
      ],
      "metadata": {
        "colab": {
          "base_uri": "https://localhost:8080/"
        },
        "id": "qLaACvSuT0yj",
        "outputId": "1dad56e9-f9ca-4bbc-b1ac-897c405fcdc2"
      },
      "execution_count": 13,
      "outputs": [
        {
          "output_type": "stream",
          "name": "stdout",
          "text": [
            "Enter a number = 2\n",
            "Howdy\n"
          ]
        }
      ]
    },
    {
      "cell_type": "markdown",
      "source": [
        "9. If your programme is stuck in an endless loop, what keys you’ll press?<br>\n",
        "Ans. If program is stuck in endless loop we will press ctrl+c.\n",
        "\n",
        "10. How can you tell the difference between break and continue?<br>\n",
        "Ans. The break statement will move the execution outside and just after a loop. The continue statement will move the execution to the start of the loop."
      ],
      "metadata": {
        "id": "zqY23VSyUtRb"
      }
    },
    {
      "cell_type": "code",
      "source": [
        "#e.g.\n",
        "#for break\n",
        "for i in range(7):\n",
        "    if(i==4):\n",
        "      break\n",
        "    print(i)\n",
        "print(\"Break\")\n",
        "\n",
        "#for continue\n",
        "for i in range(7):\n",
        "  if(i==4):\n",
        "    continue\n",
        "  print(i)\n",
        "  \n",
        "  "
      ],
      "metadata": {
        "colab": {
          "base_uri": "https://localhost:8080/"
        },
        "id": "A63-PxcAWS2M",
        "outputId": "57bfe05e-97a1-4587-f6a2-53a885f6e44c"
      },
      "execution_count": 20,
      "outputs": [
        {
          "output_type": "stream",
          "name": "stdout",
          "text": [
            "0\n",
            "1\n",
            "2\n",
            "3\n",
            "Break\n",
            "0\n",
            "1\n",
            "2\n",
            "3\n",
            "5\n",
            "6\n"
          ]
        }
      ]
    },
    {
      "cell_type": "markdown",
      "source": [
        "11. In a for loop, what is the difference between range(10), range(0, 10), and range(0, 10, 1)?"
      ],
      "metadata": {
        "id": "ny_FK9t7Yj2_"
      }
    },
    {
      "cell_type": "code",
      "source": [
        "#e.g.\n",
        "for i in range(10):\n",
        "  print(i)\n",
        "print( ) \n",
        "for i in range(0, 10):\n",
        "  print(i)\n",
        "print( )  \n",
        "for i in range(0, 10, 1):\n",
        "  print(i)"
      ],
      "metadata": {
        "colab": {
          "base_uri": "https://localhost:8080/"
        },
        "id": "NWfieaEOYlQ9",
        "outputId": "51573561-b9f5-42a7-c79e-af835f9f4929"
      },
      "execution_count": 25,
      "outputs": [
        {
          "output_type": "stream",
          "name": "stdout",
          "text": [
            "0\n",
            "1\n",
            "2\n",
            "3\n",
            "4\n",
            "5\n",
            "6\n",
            "7\n",
            "8\n",
            "9\n",
            "\n",
            "0\n",
            "1\n",
            "2\n",
            "3\n",
            "4\n",
            "5\n",
            "6\n",
            "7\n",
            "8\n",
            "9\n",
            "\n",
            "0\n",
            "1\n",
            "2\n",
            "3\n",
            "4\n",
            "5\n",
            "6\n",
            "7\n",
            "8\n",
            "9\n"
          ]
        }
      ]
    },
    {
      "cell_type": "markdown",
      "source": [
        "Ans. From the above output we can conclude that they all do the same thing. The range(10) call ranges from 0 up to (but not including) 10, range(0, 10) tells the loop to start at 0, and range(0, 10, 1) tells the loop to increase the variable by 1 on each iteration.\n",
        "\n",
        "12. Write a short program that prints the numbers 1 to 10 using a for loop. Then write an equivalent program that prints the numbers 1 to 10 using a while loop."
      ],
      "metadata": {
        "id": "QGJLIMvoZpr4"
      }
    },
    {
      "cell_type": "code",
      "source": [
        "#e.g.\n",
        "#Use of For Loop\n",
        "for i in range(1,11):\n",
        "  print(i)\n",
        "print(\"--------------\")\n",
        "#Use of While Loop\n",
        "a=1\n",
        "while a<=10:\n",
        "  print(a)\n",
        "  a=a+1\n"
      ],
      "metadata": {
        "colab": {
          "base_uri": "https://localhost:8080/"
        },
        "id": "RR9GsbN4Z51J",
        "outputId": "cb3ae8fb-473d-44e3-affc-cf42de97018d"
      },
      "execution_count": 28,
      "outputs": [
        {
          "output_type": "stream",
          "name": "stdout",
          "text": [
            "1\n",
            "2\n",
            "3\n",
            "4\n",
            "5\n",
            "6\n",
            "7\n",
            "8\n",
            "9\n",
            "10\n",
            "--------------\n",
            "1\n",
            "2\n",
            "3\n",
            "4\n",
            "5\n",
            "6\n",
            "7\n",
            "8\n",
            "9\n",
            "10\n"
          ]
        }
      ]
    },
    {
      "cell_type": "markdown",
      "source": [
        "13. If you had a function named bacon() inside a module named spam, how would you call it after importing spam?<br>\n",
        "Ans. This function can be called with spam.bacon()"
      ],
      "metadata": {
        "id": "GxbnwY9NbVjp"
      }
    }
  ]
}